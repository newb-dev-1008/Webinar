{
  "nbformat": 4,
  "nbformat_minor": 0,
  "metadata": {
    "colab": {
      "name": "Webinar: Conceptual Elucidation of Machine Learning",
      "provenance": [],
      "include_colab_link": true
    },
    "kernelspec": {
      "name": "python3",
      "display_name": "Python 3"
    }
  },
  "cells": [
    {
      "cell_type": "markdown",
      "metadata": {
        "id": "view-in-github",
        "colab_type": "text"
      },
      "source": [
        "<a href=\"https://colab.research.google.com/github/newb-dev-1008/Webinar/blob/main/Webinar_Conceptual_Elucidation_of_Machine_Learning.ipynb\" target=\"_parent\"><img src=\"https://colab.research.google.com/assets/colab-badge.svg\" alt=\"Open In Colab\"/></a>"
      ]
    },
    {
      "cell_type": "markdown",
      "metadata": {
        "id": "e1BnIFFwGyMg"
      },
      "source": [
        "# **Webinar: Conceptual Elucidation of Machine Learning**\n",
        "\n",
        "## **Test your knowledge!**"
      ]
    },
    {
      "cell_type": "markdown",
      "metadata": {
        "id": "gGbflOr0gbP1"
      },
      "source": [
        "## **Hands-on with Numpy**\n",
        "\n",
        "**The basics:**\n",
        "\n",
        "- Useful n-dimensional array methods\n",
        "- Creating arrays from Python's sequence types\n",
        "- Printing arrays\n",
        "- Common NumPy array operations\n",
        "- Universal functions\n",
        "- Indexing, slicing, and iterating\n",
        "\n"
      ]
    },
    {
      "cell_type": "code",
      "metadata": {
        "id": "dZhxbjdjhoWy"
      },
      "source": [
        "# declare an array using a list as the argument [use numpy.array()]\n",
        "\n",
        "# 1.1: IMPORT LIBRARY HERE\n",
        "\n",
        "l = # 1.2: Write code to enter a list as a numpy array (Hint: Use np.array())\n",
        "type_l = # 1.3: Determine the data type of variable 'l' (Hint: Use type())\n",
        "mat_A = # 1.4: Create a matrix using numpy and nested lists (You'll need some Google for this one)\n",
        "\n",
        "l2 = # 1.5: Create a numpy array with 25 elements, ranging from 0 to 10. (Hint: Use np.linspace())\n",
        "l3 = # 1.6: Create a numpy array with 25 elements, with incremental values of 3. (Hint: Use np.arange())\n",
        "\n",
        "l2_sliced1 = # 1.7: Slice l2 in a way that you obtain the first 10 elements\n",
        "l2_sliced2 = # 1.8: Slice l2 in a way that you obtain all elements from index 9 to index 17 (including 17)\n",
        "\n",
        "l3_squared = # 1.9: Square all the elements in l3 (Use [(i**2) for i in _____])\n",
        "\n",
        "print('l: ', l)\n",
        "print('type_l: ', type_l)\n",
        "print('mat_A: ', mat_A)\n",
        "print('l2: ', l2)\n",
        "print('l3: ', l3)\n",
        "print('l2_sliced1: ', l2_sliced1)\n",
        "print('l2_sliced2: ', l2_sliced2)\n",
        "print('l3_squared: ', l3_squared)"
      ],
      "execution_count": null,
      "outputs": []
    },
    {
      "cell_type": "markdown",
      "metadata": {
        "id": "DXlgNDOkpny4"
      },
      "source": [
        "## **Hands-on with Matplotlib**"
      ]
    },
    {
      "cell_type": "markdown",
      "metadata": {
        "id": "tIKtSM2zsIBa"
      },
      "source": [
        "**Run the code block below to import the dataset and extract features that can be plotted.**"
      ]
    },
    {
      "cell_type": "code",
      "metadata": {
        "id": "S20YO3n5rTOv"
      },
      "source": [
        "from sklearn import datasets\n",
        "\n",
        "iris = datasets.load_iris()   # load dataset\n",
        "X_iris = iris.data[:, :2]  # only take the first two features\n",
        "Y_iris = iris.target\n",
        "n_classes = 3"
      ],
      "execution_count": null,
      "outputs": []
    },
    {
      "cell_type": "code",
      "metadata": {
        "id": "C3SSwWbRscTl"
      },
      "source": [
        "# Categorising the dataset into n number of classes\n",
        "import numpy as np\n",
        "# 2.1: Write code here to import matplotlib.pyplot\n",
        "\n",
        "for i in range(n_classes):\n",
        "    index = np.where(Y_iris == i)\n",
        "    # 2.2: Replace ____________ with the function to create scatter plots.\n",
        "    plt.________(X_iris[index, 0], X_iris[index, 1], label=iris.target_names[i])\n",
        "\n",
        "# ENTER CODE BELOW\n",
        "\n",
        "# 2.3: Write code to print the legend of the plot\n",
        "# 2.4: Write code to set the label of the x axis to 'Feature 1'\n",
        "plt.ylabel('Feature 2')\n",
        "\n",
        "x = np.arange(0, 100, 0.01)\n",
        "y = (x**2)/4\n",
        "\n",
        "# 2.5: Write code to plot y against x (Hint: Use plt.plot())"
      ],
      "execution_count": null,
      "outputs": []
    },
    {
      "cell_type": "markdown",
      "metadata": {
        "id": "0Q_ZOIII6DQr"
      },
      "source": [
        "# **Regression:**\n",
        "\n",
        "Run the code block to generate data points along the line 2x - 5."
      ]
    },
    {
      "cell_type": "code",
      "metadata": {
        "id": "gn0dxCAN6OD-"
      },
      "source": [
        "import numpy as np\n",
        "\n",
        "rng = np.random.RandomState(1)\n",
        "x = 10 * rng.rand(50)\n",
        "y = 2 * x - 5 + rng.randn(50)\n",
        "plt.scatter(x, y);"
      ],
      "execution_count": null,
      "outputs": []
    },
    {
      "cell_type": "markdown",
      "metadata": {
        "id": "7YAM2GkJ6apf"
      },
      "source": [
        "We can use Scikit-Learn's *LinearRegression* estimator to fit this data and construct the best-fit line:"
      ]
    },
    {
      "cell_type": "code",
      "metadata": {
        "id": "DA8Bp9si6qMS"
      },
      "source": [
        "from sklearn.linear_model import ____________ # 3.1: Write the name of the library to be imported here\n",
        "model = # 3.2: Create a variable/ instance that contains the model\n",
        "\n",
        "# The following line fits the data to the linear regression model\n",
        "model.fit(x[:, np.newaxis], y)\n",
        "\n",
        "xfit = np.linspace(0, 10, 1000)\n",
        "yfit = # 3.3: Write code to predict y based on how xfit is applied to the model\n",
        "\n",
        "plt.scatter(x, y)\n",
        "plt.plot(# 3.4: Enter the required parameters here);"
      ],
      "execution_count": null,
      "outputs": []
    },
    {
      "cell_type": "markdown",
      "metadata": {
        "id": "0MgsJZJaKP6u"
      },
      "source": [
        "**Let's meddle with those algorithms!**\n",
        "\n",
        "SVM : The dataset can be downloaded from here : https://drive.google.com/file/d/13nw-uRXPY8XIZQxKRNZ3yYlho-CYm_Qt/view\n",
        "\n",
        "- Assign Y to contain all the values in the Class column.\n",
        "- Assign X to have all columns from the Dataframe apart from the Class columns.\n",
        "- Split the data into training and test data"
      ]
    },
    {
      "cell_type": "code",
      "metadata": {
        "id": "uaXeywsVKdOU"
      },
      "source": [
        "#Test and code out your algorithms\n",
        "#SVM\n",
        "\n",
        "\n",
        "# Splitting data\n",
        "from sklearn.model_selection import train_test_split\n",
        "X_train, X_test, y_train, y_test = train_test_split(# Your code here)\n",
        "\n",
        "\n",
        "# Import and implement the \n",
        "from sklearn.svc import #class_name goes here\n",
        "sv_classifier = #Your code here ( Vary the kernel accordingly )\n",
        "sv_classifier.fit(#your code here)\n",
        "\n",
        "\n",
        "#Evaluate your algorithm - Confusion matrix & classification report\n",
        "from sklearn.metrics import classification_report, confusion_matrix\n",
        "print(confusion_matrix(#Your Code))\n",
        "print(classification_report(#Your code))"
      ],
      "execution_count": null,
      "outputs": []
    },
    {
      "cell_type": "markdown",
      "metadata": {
        "id": "Zq6v0OqqKhvY"
      },
      "source": [
        "**K-Nearest Neighbours**  :\n",
        "\n",
        "To import the dataset and load it into our pandas dataframe, execute the following code: ( the following code cell )\n",
        "\n",
        "* Assign Y to contain all the values in the Class column.\n",
        "* Assign X to have all columns from the Dataframe apart from the Class columns.\n",
        "* Split the data into training and test data  "
      ]
    },
    {
      "cell_type": "code",
      "metadata": {
        "id": "Tk_XpdTXKmfb"
      },
      "source": [
        "#KNN\n",
        "from sklearn.neighbors import #Import the right class\n",
        "classifier = KNeighborsClassifier(# Your code here )\n",
        "classifier.fit(# Your code here)\n",
        "\n",
        "y_pred = classifier.predict(# Your code here)\n",
        "\n",
        "#Evaluate your algorithms\n",
        "from sklearn.metrics import classification_report, confusion_matrix\n",
        "print(confusion_matrix(#Your Code))\n",
        "print(classification_report(#Your code))"
      ],
      "execution_count": null,
      "outputs": []
    },
    {
      "cell_type": "markdown",
      "metadata": {
        "id": "PJ2u_MUPYk3G"
      },
      "source": [
        "**Decision Tree** :\n",
        "\n",
        "The dataset can be downloaded from here :\n",
        "https://drive.google.com/open?id=13nw-uRXPY8XIZQxKRNZ3yYlho-CYm_Qt\n",
        "\n",
        "\n",
        "* Assign Y to contain all the values in the Class column.\n",
        "* Assign X to have all columns from the Dataframe apart from the Class columns.\n",
        "* Split the data into training and test data "
      ]
    },
    {
      "cell_type": "code",
      "metadata": {
        "id": "o9IgMduvKsVj"
      },
      "source": [
        "#Decision Tree \n",
        "from sklearn.tree import #Your code here\n",
        "classifier = #Your code\n",
        "classifier.fit( #Add the right dataframes/lists )\n",
        "\n",
        "#Evaluate the algorithm\n",
        "from sklearn.metrics import classification_report, confusion_matrix\n",
        "print(confusion_matrix(#Your Code))\n",
        "print(classification_report(#Your code))"
      ],
      "execution_count": null,
      "outputs": []
    },
    {
      "cell_type": "markdown",
      "metadata": {
        "id": "yl6P-Py2YoTk"
      },
      "source": [
        "**Random Forest Regression** :\n",
        "\n",
        "The dataset can be downloaded from here : https://drive.google.com/file/d/1mVmGNx6cbfvRHC_DvF12ZL3wGLSHD9f_/view\n",
        "\n",
        "\n",
        "Assign Y to contain all the label values.\n",
        "\n",
        "Assign X to have all attributes apart from the label.\n",
        "\n",
        "Split the data into training and test data."
      ]
    },
    {
      "cell_type": "code",
      "metadata": {
        "id": "9AzXIFVYKuW_"
      },
      "source": [
        "#Random Forest Regression\n",
        "from sklearn.ensemble import # Your code here\n",
        "\n",
        "regressor = #Define the regressor \n",
        "regressor.fit(# Add the right lists/dataframes )\n",
        "y_pred = regressor.predict(#Add code)\n",
        "\n",
        "\n",
        "from sklearn import metrics\n",
        "print('Mean Absolute Error:',  #Add your code )\n",
        "print('Mean Squared Error:',  #Add your code)\n",
        "print('Root Mean Squared Error:', #Add your code)"
      ],
      "execution_count": null,
      "outputs": []
    },
    {
      "cell_type": "markdown",
      "metadata": {
        "id": "Nt83hfitYtst"
      },
      "source": [
        "**K-Means** :\n",
        "\n",
        "You can make your own data and experiment K-Means on it."
      ]
    },
    {
      "cell_type": "code",
      "metadata": {
        "id": "QFRtmnEKKzLH"
      },
      "source": [
        "# K-means\n",
        "# Prepare the Data\n",
        "X = np.array([# Add your code])\n",
        "\n",
        "# Visualize data\n",
        "plt.scatter(X[:,0],X[:,1])\n",
        "\n",
        "#Create a cluster\n",
        "from sklearn.cluster import KMeans\n",
        "kmeans = KMeans(#Add the number of clusters you need)\n",
        "kmeans.fit(X)\n",
        "\n",
        "# What happens here?\n",
        "print(kmeans.cluster_centers_)"
      ],
      "execution_count": null,
      "outputs": []
    },
    {
      "cell_type": "markdown",
      "metadata": {
        "id": "iq6bkzc7ty8H"
      },
      "source": [
        "## **Solutions:**"
      ]
    },
    {
      "cell_type": "markdown",
      "metadata": {
        "id": "ughRnccfvqTB"
      },
      "source": [
        "**Hands on with Numpy**\n",
        "\n",
        "1.1: `import numpy as np`\n",
        "\n",
        "1.2: `np.array([your list])`\n",
        "\n",
        "1.3: `type(l)`\n",
        "\n",
        "1.4: `np.array([[list 1], [list 2]])`\n",
        "\n",
        "1.5: `np.linspace(0, 10, 25)`\n",
        "\n",
        "1.6: `np.arange(0, 25, 3)`\n",
        "\n",
        "1.7: `l2[:10]`\n",
        "\n",
        "1.8: `l2[9: 18]`\n",
        "\n",
        "1.9: `np.array([(i**2) for i in l3])`"
      ]
    },
    {
      "cell_type": "markdown",
      "metadata": {
        "id": "yfBjolRivyS_"
      },
      "source": [
        "**Hands on with Matplotlib**\n",
        "\n",
        "2.1: `import matplotlib.pyplot as plt`\n",
        "\n",
        "2.2: `plt.scatter()`\n",
        "\n",
        "2.3: `plt.legend()`\n",
        "\n",
        "2.4: `plt.xlabel('Feature 1')`\n",
        "\n",
        "2.5: `plt.plot(x, y)`"
      ]
    },
    {
      "cell_type": "markdown",
      "metadata": {
        "id": "7GZs5OSMFspK"
      },
      "source": [
        "**Regression**\n",
        "\n",
        "3.1: `LinearRegression`\n",
        "\n",
        "3.2: `LinearRegression()`\n",
        "\n",
        "3.3: `model.predict(xfit[:, np.newaxis])`\n",
        "\n",
        "3.4: `xfit, yfit`"
      ]
    },
    {
      "cell_type": "markdown",
      "metadata": {
        "id": "OsV8c7-5YSTm"
      },
      "source": [
        "\n",
        "**SVM:**\n",
        "https://stackabuse.com/implementing-svm-and-kernel-svm-with-pythons-scikit-learn/\n",
        "\n",
        "**Decision Tree:**\n",
        "https://stackabuse.com/decision-trees-in-python-with-scikit-learn/\n",
        "\n",
        "**Random Forest:**\n",
        "https://stackabuse.com/random-forest-algorithm-with-python-and-scikit-learn/\n",
        "\n",
        "**K-Means:**\n",
        "https://stackabuse.com/k-means-clustering-with-scikit-learn/"
      ]
    }
  ]
}